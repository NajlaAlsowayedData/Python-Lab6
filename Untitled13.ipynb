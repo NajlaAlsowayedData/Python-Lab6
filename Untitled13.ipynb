{
 "cells": [
  {
   "cell_type": "code",
   "execution_count": 1,
   "id": "0356e737",
   "metadata": {},
   "outputs": [
    {
     "name": "stdout",
     "output_type": "stream",
     "text": [
      "Please Enter a number:  5555555555\n",
      "Sorry, the number is not found! \n"
     ]
    }
   ],
   "source": [
    "def FindOwner(EnteredNumber):\n",
    "    Dictionary1 = {\"Name\" : [\"Amal\", \"Mohammed\", \"Khadijah\" , \"Abdullah\" ,\"Rawan\" , \"Faisal\" , \"Layla\"]  , \n",
    "    \"Numbers\" : [1111111111 ,2222222222 , 3333333333 , 4444444444 , 5555555555 , 6666666666 , 7777777777] }\n",
    "    \n",
    "    if not EnteredNumber.isdigit() or len(EnteredNumber) != 10 :\n",
    "        return \"This is invalid Number! \"\n",
    "            \n",
    "    TheOwner = Dictionary1.get(EnteredNumber)\n",
    "    ### I didnt recognized how to assgin the single value of names to entered numbers.. I tried but I didnt find any solution,\n",
    "    \n",
    "    if TheOwner is None :\n",
    "        return \"Sorry, the number is not found! \"\n",
    "    \n",
    "    else :\n",
    "        return TheOwner\n",
    "\n",
    "EnteredNumber = input('Please Enter a number:  ')\n",
    "print (FindOwner(EnteredNumber))\n"
   ]
  },
  {
   "cell_type": "code",
   "execution_count": null,
   "id": "383494a4",
   "metadata": {},
   "outputs": [],
   "source": []
  }
 ],
 "metadata": {
  "kernelspec": {
   "display_name": "Python 3 (ipykernel)",
   "language": "python",
   "name": "python3"
  },
  "language_info": {
   "codemirror_mode": {
    "name": "ipython",
    "version": 3
   },
   "file_extension": ".py",
   "mimetype": "text/x-python",
   "name": "python",
   "nbconvert_exporter": "python",
   "pygments_lexer": "ipython3",
   "version": "3.10.9"
  }
 },
 "nbformat": 4,
 "nbformat_minor": 5
}
